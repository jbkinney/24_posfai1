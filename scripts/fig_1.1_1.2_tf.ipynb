{
 "cells": [
  {
   "cell_type": "code",
   "execution_count": 1,
   "id": "ae051899",
   "metadata": {
    "ExecuteTime": {
     "end_time": "2023-05-20T20:11:14.517960Z",
     "start_time": "2023-05-20T20:11:13.746625Z"
    }
   },
   "outputs": [],
   "source": [
    "import numpy as np\n",
    "import matplotlib.pyplot as plt\n",
    "from mpl_toolkits.mplot3d.proj3d import proj_transform\n",
    "from mpl_toolkits.mplot3d.axes3d import Axes3D\n",
    "from matplotlib.text import Annotation\n",
    "from matplotlib.colors import to_rgba\n",
    "import mpl_toolkits\n",
    "import logomaker\n",
    "\n",
    "# Useful shorthand\n",
    "a = np.array\n",
    "data_dir = '../data/'\n",
    "out_dir = '../output/'\n",
    "fig_name = 'fig_1.1_1.2_tf'\n",
    "%matplotlib inline"
   ]
  },
  {
   "cell_type": "code",
   "execution_count": 2,
   "id": "3ede3e14",
   "metadata": {
    "ExecuteTime": {
     "end_time": "2023-05-20T20:11:14.521642Z",
     "start_time": "2023-05-20T20:11:14.518895Z"
    }
   },
   "outputs": [
    {
     "data": {
      "text/plain": [
       "'3.6.2'"
      ]
     },
     "execution_count": 2,
     "metadata": {},
     "output_type": "execute_result"
    }
   ],
   "source": [
    "import matplotlib\n",
    "matplotlib.__version__"
   ]
  },
  {
   "cell_type": "code",
   "execution_count": 3,
   "id": "7bedcd01",
   "metadata": {
    "ExecuteTime": {
     "end_time": "2023-05-20T20:11:14.525196Z",
     "start_time": "2023-05-20T20:11:14.522952Z"
    }
   },
   "outputs": [],
   "source": [
    "style_file_name = f'{out_dir}{fig_name}.style'\n",
    "s = \"\"\"\n",
    "    axes.linewidth:     0.5     # edge linewidth\n",
    "    font.size:          7.0\n",
    "    axes.labelsize:     7.0  # fontsize of the x any y labels\n",
    "    xtick.labelsize:    7.0  # fontsize of the tick labels\n",
    "    ytick.labelsize:    7.0  # fontsize of the tick labels\n",
    "    legend.fontsize:      7.0\n",
    "    legend.borderpad:     0.2  # border whitespace\n",
    "    legend.labelspacing:  0.2  # the vertical space between the legend entries\n",
    "    legend.borderaxespad: 0.2  # the border between the axes and legend edge\n",
    "    legend.framealpha:    1.0 \n",
    "    \"\"\"\n",
    "with open(style_file_name, 'w') as f:\n",
    "    f.write(s)\n",
    "    \n",
    "plt.style.use(style_file_name)"
   ]
  },
  {
   "cell_type": "markdown",
   "id": "b564a74e",
   "metadata": {},
   "source": [
    "# Define helper classes and functions"
   ]
  },
  {
   "cell_type": "code",
   "execution_count": 4,
   "id": "f44f9777",
   "metadata": {
    "ExecuteTime": {
     "end_time": "2023-05-20T20:11:14.532398Z",
     "start_time": "2023-05-20T20:11:14.526024Z"
    },
    "code_folding": []
   },
   "outputs": [],
   "source": [
    "# Classes to do 3D annotation\n",
    "class Annotation3D(Annotation):\n",
    "\n",
    "    def __init__(self, text, xyz, *args, **kwargs):\n",
    "        super().__init__(text, xy=(0, 0), *args, **kwargs)\n",
    "        self._xyz = xyz\n",
    "\n",
    "    def draw(self, renderer):\n",
    "        x2, y2, z2 = proj_transform(*self._xyz, self.axes.M)\n",
    "        self.xy = (x2, y2)\n",
    "        super().draw(renderer)\n",
    "\n",
    "def _annotate3D(ax, text, xyz, *args, **kwargs):\n",
    "    '''Add anotation `text` to an `Axes3d` instance.'''\n",
    "\n",
    "    annotation = Annotation3D(text, xyz, *args, **kwargs)\n",
    "    ax.add_artist(annotation)\n",
    "\n",
    "setattr(Axes3D, 'annotate3D', _annotate3D)\n",
    "\n",
    "# Classes to draw 3D arrows\n",
    "from matplotlib.patches import FancyArrowPatch\n",
    "        \n",
    "class Arrow3D(FancyArrowPatch):\n",
    "\n",
    "    def __init__(self, x, y, z, dx, dy, dz, *args, **kwargs):\n",
    "        super().__init__((0, 0), (0, 0), *args, **kwargs)\n",
    "        self._xyz = (x, y, z)\n",
    "        self._dxdydz = (dx, dy, dz)\n",
    "\n",
    "    def do_3d_projection(self, renderer=None):\n",
    "        x1, y1, z1 = self._xyz\n",
    "        dx, dy, dz = self._dxdydz\n",
    "        x2, y2, z2 = (x1 + dx, y1 + dy, z1 + dz)\n",
    "\n",
    "        xs, ys, zs = proj_transform((x1, x2), (y1, y2), (z1, z2), self.axes.M)\n",
    "        self.set_positions((xs[0], ys[0]), (xs[1], ys[1]))\n",
    "        #super().draw(renderer)\n",
    "        return np.min([z1,z2])\n",
    "        \n",
    "\n",
    "def _arrow3D(ax, x1, x2, *args, **kwargs):\n",
    "    '''Add an 3d arrow to an `Axes3D` instance.'''\n",
    "    x1 = a(x1)\n",
    "    x2 = a(x2)\n",
    "    dx = x2-x1\n",
    "    coords = np.hstack([x1, dx])\n",
    "    arrow = Arrow3D(*coords, *args, **kwargs)\n",
    "    ax.add_artist(arrow)\n",
    "    \n",
    "setattr(Axes3D, 'arrow3D', _arrow3D)"
   ]
  },
  {
   "cell_type": "code",
   "execution_count": 5,
   "id": "6957e879",
   "metadata": {
    "ExecuteTime": {
     "end_time": "2023-05-20T20:11:14.627498Z",
     "start_time": "2023-05-20T20:11:14.533429Z"
    }
   },
   "outputs": [
    {
     "data": {
      "text/html": [
       "<div>\n",
       "<style scoped>\n",
       "    .dataframe tbody tr th:only-of-type {\n",
       "        vertical-align: middle;\n",
       "    }\n",
       "\n",
       "    .dataframe tbody tr th {\n",
       "        vertical-align: top;\n",
       "    }\n",
       "\n",
       "    .dataframe thead th {\n",
       "        text-align: right;\n",
       "    }\n",
       "</style>\n",
       "<table border=\"1\" class=\"dataframe\">\n",
       "  <thead>\n",
       "    <tr style=\"text-align: right;\">\n",
       "      <th></th>\n",
       "      <th>A</th>\n",
       "      <th>C</th>\n",
       "      <th>G</th>\n",
       "      <th>T</th>\n",
       "    </tr>\n",
       "  </thead>\n",
       "  <tbody>\n",
       "    <tr>\n",
       "      <th>0</th>\n",
       "      <td>-0.000000</td>\n",
       "      <td>-0.581835</td>\n",
       "      <td>-0.641998</td>\n",
       "      <td>-0.183266</td>\n",
       "    </tr>\n",
       "    <tr>\n",
       "      <th>1</th>\n",
       "      <td>-0.000000</td>\n",
       "      <td>-1.120310</td>\n",
       "      <td>-0.636005</td>\n",
       "      <td>-0.403067</td>\n",
       "    </tr>\n",
       "    <tr>\n",
       "      <th>2</th>\n",
       "      <td>-0.000000</td>\n",
       "      <td>-0.905313</td>\n",
       "      <td>-0.707524</td>\n",
       "      <td>-0.086011</td>\n",
       "    </tr>\n",
       "    <tr>\n",
       "      <th>3</th>\n",
       "      <td>-0.187260</td>\n",
       "      <td>-1.080210</td>\n",
       "      <td>-1.316726</td>\n",
       "      <td>-0.000000</td>\n",
       "    </tr>\n",
       "    <tr>\n",
       "      <th>4</th>\n",
       "      <td>-0.042064</td>\n",
       "      <td>-0.449238</td>\n",
       "      <td>-0.252205</td>\n",
       "      <td>-0.000000</td>\n",
       "    </tr>\n",
       "  </tbody>\n",
       "</table>\n",
       "</div>"
      ],
      "text/plain": [
       "          A         C         G         T\n",
       "0 -0.000000 -0.581835 -0.641998 -0.183266\n",
       "1 -0.000000 -1.120310 -0.636005 -0.403067\n",
       "2 -0.000000 -0.905313 -0.707524 -0.086011\n",
       "3 -0.187260 -1.080210 -1.316726 -0.000000\n",
       "4 -0.042064 -0.449238 -0.252205 -0.000000"
      ]
     },
     "execution_count": 5,
     "metadata": {},
     "output_type": "execute_result"
    }
   ],
   "source": [
    "#load and look at data for energy matrix from Justins matlab file\n",
    "import pandas as pd\n",
    "from scipy.io import loadmat\n",
    "annots = loadmat(f'{data_dir}best_models.mat')\n",
    "data_df = pd.DataFrame(data=-annots['best_crp_fullwt'].T / 1.62, \n",
    "                     columns=['A','C','G','T']);\n",
    "data_df.head()"
   ]
  },
  {
   "cell_type": "code",
   "execution_count": 6,
   "id": "fdb16d24",
   "metadata": {
    "ExecuteTime": {
     "end_time": "2023-05-20T20:11:14.669761Z",
     "start_time": "2023-05-20T20:11:14.656836Z"
    }
   },
   "outputs": [
    {
     "data": {
      "text/plain": [
       "['__header__',\n",
       " '__version__',\n",
       " '__globals__',\n",
       " 'crp_nagaraj',\n",
       " 'crp_robison',\n",
       " 'crp_gunasekera',\n",
       " 'rnap_harley',\n",
       " 'rnap_kiryu',\n",
       " 'rnap_lisser',\n",
       " 'wt_lac_promoter',\n",
       " 'best_crp_fullwt',\n",
       " 'best_crp_crpwt',\n",
       " 'best_crp_full150',\n",
       " 'best_crp_full500',\n",
       " 'best_rnap_fullwt',\n",
       " 'best_rnap_rnapwt',\n",
       " 'best_rnap_full0',\n",
       " 'best_rnap_full150',\n",
       " 'best_rnap_full500',\n",
       " 'best_tau_fullwt',\n",
       " 'best_tau_sixepsilonis',\n",
       " 'best_tau_final_all']"
      ]
     },
     "execution_count": 6,
     "metadata": {},
     "output_type": "execute_result"
    }
   ],
   "source": [
    "list(annots.keys())"
   ]
  },
  {
   "cell_type": "code",
   "execution_count": 7,
   "id": "ec368ab9",
   "metadata": {
    "ExecuteTime": {
     "end_time": "2023-05-20T20:11:14.697696Z",
     "start_time": "2023-05-20T20:11:14.671979Z"
    }
   },
   "outputs": [
    {
     "data": {
      "text/html": [
       "<div>\n",
       "<style scoped>\n",
       "    .dataframe tbody tr th:only-of-type {\n",
       "        vertical-align: middle;\n",
       "    }\n",
       "\n",
       "    .dataframe tbody tr th {\n",
       "        vertical-align: top;\n",
       "    }\n",
       "\n",
       "    .dataframe thead th {\n",
       "        text-align: right;\n",
       "    }\n",
       "</style>\n",
       "<table border=\"1\" class=\"dataframe\">\n",
       "  <thead>\n",
       "    <tr style=\"text-align: right;\">\n",
       "      <th></th>\n",
       "      <th>A</th>\n",
       "      <th>C</th>\n",
       "      <th>G</th>\n",
       "      <th>T</th>\n",
       "    </tr>\n",
       "  </thead>\n",
       "  <tbody>\n",
       "    <tr>\n",
       "      <th>0</th>\n",
       "      <td>0.000000</td>\n",
       "      <td>-0.581835</td>\n",
       "      <td>-0.641998</td>\n",
       "      <td>-0.183266</td>\n",
       "    </tr>\n",
       "    <tr>\n",
       "      <th>1</th>\n",
       "      <td>0.403067</td>\n",
       "      <td>-0.717243</td>\n",
       "      <td>-0.232938</td>\n",
       "      <td>0.000000</td>\n",
       "    </tr>\n",
       "    <tr>\n",
       "      <th>2</th>\n",
       "      <td>0.086011</td>\n",
       "      <td>-0.819302</td>\n",
       "      <td>-0.621513</td>\n",
       "      <td>0.000000</td>\n",
       "    </tr>\n",
       "    <tr>\n",
       "      <th>3</th>\n",
       "      <td>0.000000</td>\n",
       "      <td>-0.892950</td>\n",
       "      <td>-1.129467</td>\n",
       "      <td>0.187260</td>\n",
       "    </tr>\n",
       "    <tr>\n",
       "      <th>4</th>\n",
       "      <td>0.000000</td>\n",
       "      <td>-0.407174</td>\n",
       "      <td>-0.210141</td>\n",
       "      <td>0.042064</td>\n",
       "    </tr>\n",
       "  </tbody>\n",
       "</table>\n",
       "</div>"
      ],
      "text/plain": [
       "          A         C         G         T\n",
       "0  0.000000 -0.581835 -0.641998 -0.183266\n",
       "1  0.403067 -0.717243 -0.232938  0.000000\n",
       "2  0.086011 -0.819302 -0.621513  0.000000\n",
       "3  0.000000 -0.892950 -1.129467  0.187260\n",
       "4  0.000000 -0.407174 -0.210141  0.042064"
      ]
     },
     "execution_count": 7,
     "metadata": {},
     "output_type": "execute_result"
    }
   ],
   "source": [
    "# Wild-type gauge df\n",
    "wt_seq ='ATTAATGTGAGTTAGCTCACTCATTA'\n",
    "wt_df = data_df.copy()\n",
    "for k in wt_df.index:\n",
    "    for c in wt_df.columns:\n",
    "        wt_df.loc[k,c]=data_df.loc[k,c]-data_df.loc[k, wt_seq[k]]\n",
    "wt_df.head()"
   ]
  },
  {
   "cell_type": "code",
   "execution_count": 8,
   "id": "a0cfe507",
   "metadata": {
    "ExecuteTime": {
     "end_time": "2023-05-20T20:11:14.712947Z",
     "start_time": "2023-05-20T20:11:14.702588Z"
    }
   },
   "outputs": [
    {
     "data": {
      "text/html": [
       "<div>\n",
       "<style scoped>\n",
       "    .dataframe tbody tr th:only-of-type {\n",
       "        vertical-align: middle;\n",
       "    }\n",
       "\n",
       "    .dataframe tbody tr th {\n",
       "        vertical-align: top;\n",
       "    }\n",
       "\n",
       "    .dataframe thead th {\n",
       "        text-align: right;\n",
       "    }\n",
       "</style>\n",
       "<table border=\"1\" class=\"dataframe\">\n",
       "  <thead>\n",
       "    <tr style=\"text-align: right;\">\n",
       "      <th></th>\n",
       "      <th>A</th>\n",
       "      <th>C</th>\n",
       "      <th>G</th>\n",
       "      <th>T</th>\n",
       "    </tr>\n",
       "  </thead>\n",
       "  <tbody>\n",
       "    <tr>\n",
       "      <th>0</th>\n",
       "      <td>0.000000</td>\n",
       "      <td>-0.581835</td>\n",
       "      <td>-0.641998</td>\n",
       "      <td>-0.183266</td>\n",
       "    </tr>\n",
       "    <tr>\n",
       "      <th>1</th>\n",
       "      <td>0.000000</td>\n",
       "      <td>-1.120310</td>\n",
       "      <td>-0.636005</td>\n",
       "      <td>-0.403067</td>\n",
       "    </tr>\n",
       "    <tr>\n",
       "      <th>2</th>\n",
       "      <td>0.000000</td>\n",
       "      <td>-0.905313</td>\n",
       "      <td>-0.707524</td>\n",
       "      <td>-0.086011</td>\n",
       "    </tr>\n",
       "    <tr>\n",
       "      <th>3</th>\n",
       "      <td>-0.187260</td>\n",
       "      <td>-1.080210</td>\n",
       "      <td>-1.316726</td>\n",
       "      <td>0.000000</td>\n",
       "    </tr>\n",
       "    <tr>\n",
       "      <th>4</th>\n",
       "      <td>-0.042064</td>\n",
       "      <td>-0.449238</td>\n",
       "      <td>-0.252205</td>\n",
       "      <td>0.000000</td>\n",
       "    </tr>\n",
       "  </tbody>\n",
       "</table>\n",
       "</div>"
      ],
      "text/plain": [
       "          A         C         G         T\n",
       "0  0.000000 -0.581835 -0.641998 -0.183266\n",
       "1  0.000000 -1.120310 -0.636005 -0.403067\n",
       "2  0.000000 -0.905313 -0.707524 -0.086011\n",
       "3 -0.187260 -1.080210 -1.316726  0.000000\n",
       "4 -0.042064 -0.449238 -0.252205  0.000000"
      ]
     },
     "execution_count": 8,
     "metadata": {},
     "output_type": "execute_result"
    }
   ],
   "source": [
    "# Maximum gauge df\n",
    "max_df = data_df.copy()\n",
    "max_df.loc[:,:] = data_df.values - np.max(data_df.values, axis=1)[:,np.newaxis]\n",
    "max_df.head()"
   ]
  },
  {
   "cell_type": "code",
   "execution_count": 9,
   "id": "57310aae",
   "metadata": {
    "ExecuteTime": {
     "end_time": "2023-05-20T20:11:14.733799Z",
     "start_time": "2023-05-20T20:11:14.722451Z"
    }
   },
   "outputs": [
    {
     "data": {
      "text/html": [
       "<div>\n",
       "<style scoped>\n",
       "    .dataframe tbody tr th:only-of-type {\n",
       "        vertical-align: middle;\n",
       "    }\n",
       "\n",
       "    .dataframe tbody tr th {\n",
       "        vertical-align: top;\n",
       "    }\n",
       "\n",
       "    .dataframe thead th {\n",
       "        text-align: right;\n",
       "    }\n",
       "</style>\n",
       "<table border=\"1\" class=\"dataframe\">\n",
       "  <thead>\n",
       "    <tr style=\"text-align: right;\">\n",
       "      <th></th>\n",
       "      <th>A</th>\n",
       "      <th>C</th>\n",
       "      <th>G</th>\n",
       "      <th>T</th>\n",
       "    </tr>\n",
       "  </thead>\n",
       "  <tbody>\n",
       "    <tr>\n",
       "      <th>0</th>\n",
       "      <td>0.351775</td>\n",
       "      <td>-0.230060</td>\n",
       "      <td>-0.290224</td>\n",
       "      <td>0.168509</td>\n",
       "    </tr>\n",
       "    <tr>\n",
       "      <th>1</th>\n",
       "      <td>0.539846</td>\n",
       "      <td>-0.580464</td>\n",
       "      <td>-0.096160</td>\n",
       "      <td>0.136779</td>\n",
       "    </tr>\n",
       "    <tr>\n",
       "      <th>2</th>\n",
       "      <td>0.424712</td>\n",
       "      <td>-0.480601</td>\n",
       "      <td>-0.282812</td>\n",
       "      <td>0.338701</td>\n",
       "    </tr>\n",
       "    <tr>\n",
       "      <th>3</th>\n",
       "      <td>0.458789</td>\n",
       "      <td>-0.434161</td>\n",
       "      <td>-0.670677</td>\n",
       "      <td>0.646049</td>\n",
       "    </tr>\n",
       "    <tr>\n",
       "      <th>4</th>\n",
       "      <td>0.143813</td>\n",
       "      <td>-0.263361</td>\n",
       "      <td>-0.066329</td>\n",
       "      <td>0.185877</td>\n",
       "    </tr>\n",
       "  </tbody>\n",
       "</table>\n",
       "</div>"
      ],
      "text/plain": [
       "          A         C         G         T\n",
       "0  0.351775 -0.230060 -0.290224  0.168509\n",
       "1  0.539846 -0.580464 -0.096160  0.136779\n",
       "2  0.424712 -0.480601 -0.282812  0.338701\n",
       "3  0.458789 -0.434161 -0.670677  0.646049\n",
       "4  0.143813 -0.263361 -0.066329  0.185877"
      ]
     },
     "execution_count": 9,
     "metadata": {},
     "output_type": "execute_result"
    }
   ],
   "source": [
    "# zero-sum gauge df\n",
    "zs_df = data_df.copy()\n",
    "zs_df.loc[:,:] = data_df.values - np.mean(data_df.values, axis=1)[:,np.newaxis]\n",
    "zs_df.head()"
   ]
  },
  {
   "cell_type": "code",
   "execution_count": 10,
   "id": "67a15267",
   "metadata": {
    "ExecuteTime": {
     "end_time": "2023-05-20T20:11:14.756820Z",
     "start_time": "2023-05-20T20:11:14.736630Z"
    }
   },
   "outputs": [
    {
     "name": "stdout",
     "output_type": "stream",
     "text": [
      "theta_0_zs = -12.9 kcal/mol\n",
      "theta_0_wt = 0.0 kcal/mol\n",
      "theta_0_max = 7.2 kcal/mol\n"
     ]
    },
    {
     "data": {
      "text/plain": [
       "\"\\nNOTE: The theta_0_max differs from -6.9 (reported in fig. 3 of Kinney 2010) \\nbecause were're loading the best model, wheras the mean value is reported in that figure. \\nThe results are pretty close, though.\\n\""
      ]
     },
     "execution_count": 10,
     "metadata": {},
     "output_type": "execute_result"
    }
   ],
   "source": [
    "# Get theta_0_wt from Kinny et al., 2010\n",
    "theta_0_wt = 0 # This is how theta_0 was defined\n",
    "\n",
    "# Compute theta_0 in zs and max gauges\n",
    "theta_0_max = theta_0_wt\n",
    "theta_0_zs = theta_0_wt\n",
    "for k in wt_df.index:\n",
    "    theta_0_max += np.max(wt_df.loc[k,:])\n",
    "    theta_0_zs += np.mean(wt_df.loc[k,:])\n",
    "    \n",
    "print(f'theta_0_zs = {theta_0_zs:.1f} kcal/mol')\n",
    "print(f'theta_0_wt = {theta_0_wt:.1f} kcal/mol')\n",
    "print(f'theta_0_max = {theta_0_max:.1f} kcal/mol')\n",
    "\n",
    "'''\n",
    "NOTE: The theta_0_max differs from -6.9 (reported in fig. 3 of Kinney 2010) \n",
    "because were're loading the best model, wheras the mean value is reported in that figure. \n",
    "The results are pretty close, though.\n",
    "'''"
   ]
  },
  {
   "cell_type": "code",
   "execution_count": 11,
   "id": "d63e8985",
   "metadata": {
    "ExecuteTime": {
     "end_time": "2023-05-20T20:11:14.768289Z",
     "start_time": "2023-05-20T20:11:14.759300Z"
    }
   },
   "outputs": [
    {
     "name": "stdout",
     "output_type": "stream",
     "text": [
      "f_of_s_wt = 0.0 kcal/mol\n"
     ]
    }
   ],
   "source": [
    "# Check that the wt sequence has energy zero\n",
    "f_of_s_wt = theta_0_wt\n",
    "\n",
    "for k in wt_df.index:\n",
    "    for c in wt_df.columns:\n",
    "        f_of_s_wt += wt_df.loc[k,wt_seq[k]]\n",
    "        \n",
    "print(f'f_of_s_wt = {f_of_s_wt} kcal/mol')"
   ]
  },
  {
   "cell_type": "markdown",
   "id": "35c21de2",
   "metadata": {},
   "source": [
    "# Draw figure"
   ]
  },
  {
   "cell_type": "code",
   "execution_count": 12,
   "id": "3f68ab1a",
   "metadata": {
    "ExecuteTime": {
     "end_time": "2023-05-20T20:11:14.785829Z",
     "start_time": "2023-05-20T20:11:14.771469Z"
    },
    "code_folding": []
   },
   "outputs": [],
   "source": [
    "# Plot rendering function\n",
    "illustration_kwargs = {\n",
    "    'azim':-35, \n",
    "    'elev':20, \n",
    "    'dist':4, \n",
    "    'basis_rescale':1.0, \n",
    "    'xbound':[-2, 2], \n",
    "    'ybound':[-2, 2], \n",
    "    'zbound':[-2, 2], \n",
    "    'mutation_scale':7,\n",
    "    'G_color':'C1',\n",
    "}\n",
    "\n",
    "def draw_3d(ax,\n",
    "            planes,\n",
    "            plane_color,\n",
    "            plane_alpha,\n",
    "            G_color,\n",
    "            azim, \n",
    "            elev, \n",
    "            dist, \n",
    "            basis_rescale, \n",
    "            xbound, \n",
    "            ybound, \n",
    "            zbound, \n",
    "            file_name=None,\n",
    "            figsize=[1.5,1.5],\n",
    "            fontsize=8,\n",
    "            dotsize=20,\n",
    "            mutation_scale=10,\n",
    "            box_aspect = [1,1,1],\n",
    "            forground_basis_color = 'black',\n",
    "            background_basis_color = 'silver',\n",
    "            feature_color = 'black',\n",
    "            text_coords_dict = {},\n",
    "            char_color_dict = {\n",
    "                    'G': [1, .65, 0],\n",
    "                    'T': [1, 0, 0],\n",
    "                    'C': [0, 0, 1],\n",
    "                    'A': [0, .5, 0]}\n",
    "            ):\n",
    "\n",
    "    \n",
    "    # Specify coordinates\n",
    "    origin = a([0, 0, 0])\n",
    "    \n",
    "    # Set view\n",
    "    ax.view_init(elev=elev, azim=azim)\n",
    "    ax.set_box_aspect(box_aspect)\n",
    "\n",
    "    # Draw origin\n",
    "    ax.scatter(*tuple(origin), c=feature_color, s=dotsize)\n",
    "\n",
    "    # Draw labels\n",
    "    for c, x in text_coords_dict.items():\n",
    "        color = char_color_dict[c]\n",
    "        ax.text(*tuple(x), c, size=fontsize, ha='center', va='center', color=color)\n",
    "\n",
    "    # Plot features as axes\n",
    "    xs = [[1, 0, 0],\n",
    "          [0, 1, 0],\n",
    "          [0, 0, 1]]\n",
    "    for x in xs:\n",
    "        x = a(x)\n",
    "        ax.arrow3D(x1=origin, \n",
    "                   x2=basis_rescale*a(x),\n",
    "                   mutation_scale=mutation_scale,\n",
    "                   ec='none',\n",
    "                   fc=forground_basis_color)\n",
    "        line = np.array([10*x,0*x])\n",
    "        ax.plot3D(line[:,0], line[:,1], line[:,2], c=forground_basis_color, linestyle='--', lw=.5)\n",
    "\n",
    "        ax.arrow3D(x1=origin, \n",
    "                   x2=-basis_rescale*x,\n",
    "                   mutation_scale=mutation_scale,\n",
    "                   ec='none',\n",
    "                   fc=background_basis_color)\n",
    "        line = np.array([-10*x,0*x])\n",
    "        ax.plot3D(line[:,0], line[:,1], line[:,2], c=background_basis_color, linestyle='--', lw=.5)\n",
    "\n",
    "    # Draw gauge vector\n",
    "    x = a([1, 1, 1])/np.sqrt(3)\n",
    "    G_color = 'C1'\n",
    "    ax.arrow3D(x1=origin, \n",
    "               x2=basis_rescale*a(x),\n",
    "               mutation_scale=mutation_scale,\n",
    "               ec='none',\n",
    "               fc=G_color)\n",
    "    line = np.array([10*x,-10*x])\n",
    "    ax.plot3D(line[:,0], line[:,1], line[:,2], c=G_color, linestyle='--', lw=.5)\n",
    "    \n",
    "    # Draw gauge planes\n",
    "    for plane in planes:\n",
    "        ax.plot_surface(*plane,\n",
    "                        color=plane_color,\n",
    "                        alpha=plane_alpha)\n",
    "    \n",
    "    # Finish stylizing plot\n",
    "    ax.set_axis_off()\n",
    "    ax.dist=dist\n",
    "    ax.set_xbound(*xbound)\n",
    "    ax.set_ybound(*ybound)\n",
    "    ax.set_zbound(*zbound)\n",
    "    \n",
    "    return ax"
   ]
  },
  {
   "cell_type": "code",
   "execution_count": 13,
   "id": "fd93e4f0",
   "metadata": {
    "ExecuteTime": {
     "end_time": "2023-05-20T20:11:14.807738Z",
     "start_time": "2023-05-20T20:11:14.791282Z"
    }
   },
   "outputs": [],
   "source": [
    "text_coords_dict = {\n",
    "    'A':[1.5,0,-.25],\n",
    "    'C':[0,1.5,+.25],\n",
    "    'G':[0,.25,1.25]}\n",
    "\n",
    "# Define wt plane\n",
    "aa = np.linspace(-1, 1, 5)\n",
    "bb = np.linspace(-1, 1, 5)\n",
    "x=np.array([[a for a in aa] for b in bb])\n",
    "y=np.array([[b for a in aa] for b in bb])\n",
    "z=np.array([[0 for a in aa] for b in bb])\n",
    "wt_plane = [x,y,z]\n",
    "\n",
    "# Define three minimum planes\n",
    "aa = np.linspace(-1, 0, 5)\n",
    "bb = np.linspace(-1, 0, 5)\n",
    "x=np.array([[a for a in aa] for b in bb])\n",
    "y=np.array([[b for a in aa] for b in bb])\n",
    "z=np.array([[0 for a in aa] for b in bb])\n",
    "max1_plane = [x,y,z]\n",
    "\n",
    "x=np.array([[a for a in aa] for b in bb])\n",
    "y=np.array([[0 for a in aa] for b in bb])\n",
    "z=np.array([[b for a in aa] for b in bb])\n",
    "max2_plane = [x,y,z]\n",
    "\n",
    "x=np.array([[0 for a in aa] for b in bb])\n",
    "y=np.array([[a for a in aa] for b in bb])\n",
    "z=np.array([[b for a in aa] for b in bb])\n",
    "max3_plane = [x,y,z]\n",
    "\n",
    "# Define orthogonal plane\n",
    "aa = np.linspace(-0.5, 0.5, 5)\n",
    "bb = np.linspace(-0.5, 0.5, 5)\n",
    "x=np.array([[a for a in aa] for b in bb])\n",
    "y=np.array([[b for a in aa] for b in bb])\n",
    "z=np.array([[-(a+b) for a in aa] for b in bb])\n",
    "hi_plane = [x,y,z]"
   ]
  },
  {
   "cell_type": "code",
   "execution_count": 14,
   "id": "fde6c8d5",
   "metadata": {
    "ExecuteTime": {
     "end_time": "2023-05-20T20:11:14.821291Z",
     "start_time": "2023-05-20T20:11:14.812031Z"
    }
   },
   "outputs": [],
   "source": [
    "from matplotlib.colors import TwoSlopeNorm, Normalize\n",
    "\n",
    "heatmap_kwargs = {\n",
    "    'cmap':'PiYG',\n",
    "    'vlim':[-2.5,2.5],\n",
    "    'vticks':[-2,-1,0,1,2],\n",
    "    'clabel':r'$\\theta_l^c$ (kcal/mol)'\n",
    "}\n",
    "\n",
    "def draw_heatmap(ax, \n",
    "                 df, \n",
    "                 vlim, \n",
    "                 vticks, \n",
    "                 cmap, \n",
    "                 clabel,\n",
    "                 seq=None):\n",
    "    \n",
    "    # Needed to center colormap at zero\n",
    "    norm = TwoSlopeNorm(vmin=vlim[0], vcenter=0, vmax=vlim[1])\n",
    "    \n",
    "    # Plot heatmap as colormesh\n",
    "    L, C = df.shape\n",
    "    x_edges = np.arange(L + 1) - .5\n",
    "    y_edges = np.arange(C + 1) - .5\n",
    "    values = (df.values.T)[::-1,:]\n",
    "    alphabet = np.array(list(df.columns))[::-1]\n",
    "    \n",
    "    im = ax.pcolormesh(x_edges,\n",
    "                       y_edges,\n",
    "                       values,\n",
    "                       shading='flat',\n",
    "                       cmap=cmap,\n",
    "                       clim=vlim,\n",
    "                       norm=norm)  \n",
    "    \n",
    "    ax.spines['top'].set_visible(False)\n",
    "    ax.spines['right'].set_visible(False)\n",
    "    ax.spines['bottom'].set_visible(False)\n",
    "    ax.spines['left'].set_visible(False)\n",
    "    ax.set_xticks([])\n",
    "    ax.set_yticks(range(4))\n",
    "    ax.set_yticklabels(alphabet)\n",
    "    ax.set_aspect(2)\n",
    "    fig = ax.get_figure()\n",
    "    cb = fig.colorbar(im, \n",
    "                      ax=ax, \n",
    "                      location='bottom',\n",
    "                      fraction=.05,\n",
    "                      pad=0.10)\n",
    "    cb.set_ticks(vticks)\n",
    "    cb.outline.set_visible(False)\n",
    "    cb.ax.set_xlabel(clabel)\n",
    "    cb.ax.tick_params(axis='x', direction='in', color='w', size=5)\n",
    "\n",
    "    # Mark wt sequence\n",
    "    _ = np.newaxis\n",
    "    if seq:\n",
    "\n",
    "        # Set marker style\n",
    "        seq_kwargs = {'marker': '.', 'color': 'k', 's': 2}\n",
    "\n",
    "        # Get xy coords to plot\n",
    "        seq_arr = np.array(list(seq))\n",
    "        xy = np.argwhere(seq_arr[:, _] == alphabet[_, :])\n",
    "\n",
    "        # Mark sequence\n",
    "        ax.scatter(xy[:, 0], xy[:, 1], **seq_kwargs)\n",
    "    \n",
    "    return ax"
   ]
  },
  {
   "cell_type": "code",
   "execution_count": 15,
   "id": "064a710d",
   "metadata": {
    "ExecuteTime": {
     "end_time": "2023-05-20T20:11:14.824612Z",
     "start_time": "2023-05-20T20:11:14.822032Z"
    }
   },
   "outputs": [],
   "source": [
    "import logomaker\n",
    "\n",
    "logo_kwargs = {\n",
    "    'ylabel':r'$\\theta_l^c$ (kcal/mol)     ',\n",
    "    'labelpad':0,\n",
    "    'font_name':'Arial Rounded MT Bold'\n",
    "}\n",
    "\n",
    "def draw_logo(ax, \n",
    "              df,\n",
    "              ylim,\n",
    "              yticks,\n",
    "              font_name,\n",
    "              ylabel,\n",
    "              labelpad):\n",
    "    logomaker.Logo(ax=ax,\n",
    "                   df=df, \n",
    "                   fade_below=.5,\n",
    "                   shade_below=.5,\n",
    "                   show_spines=False,\n",
    "                   font_name=font_name)\n",
    "    ax.set_xticks([])\n",
    "    ax.set_ylim(ylim)\n",
    "    ax.set_yticks(yticks)\n",
    "    ax.spines['left'].set_visible(True)\n",
    "    ax.spines['left'].set_linewidth(.5)\n",
    "    ax.spines['left'].set_bounds(low=min(yticks), high=max(yticks))\n",
    "    ax.set_ylabel(ylabel, labelpad=labelpad)\n",
    "    return ax"
   ]
  },
  {
   "cell_type": "code",
   "execution_count": 16,
   "id": "c76d7f1b",
   "metadata": {
    "ExecuteTime": {
     "end_time": "2023-05-20T20:11:18.257037Z",
     "start_time": "2023-05-20T20:11:14.825383Z"
    }
   },
   "outputs": [
    {
     "data": {
      "image/png": "[encoded data removed]",
      "text/plain": [
       "<Figure size 680x300 with 9 Axes>"
      ]
     },
     "metadata": {},
     "output_type": "display_data"
    }
   ],
   "source": [
    "import logomaker\n",
    "\n",
    "# Create figure\n",
    "fig = plt.figure(figsize=[3.4*2,3])\n",
    "\n",
    "#\n",
    "# Panel C: Hierarchical gauge\n",
    "#\n",
    "panel_num = 0\n",
    "\n",
    "# Draw heatmap\n",
    "draw_heatmap(ax=fig.add_subplot(2, 3, panel_num+1),\n",
    "             df=zs_df,\n",
    "             **heatmap_kwargs)\n",
    "\n",
    "# Draw logo\n",
    "draw_logo(ax=fig.add_subplot(2, 3, panel_num+4), \n",
    "          df=zs_df,\n",
    "          ylim=[-2, 2.666667],  # (14/12)*4 - 2 = 2.666667; so all y-spines have the same length\n",
    "          yticks=[-2,-1,0,1,2],\n",
    "          **logo_kwargs)\n",
    "\n",
    "#\n",
    "# Panel B: Wild-type gauge\n",
    "#\n",
    "panel_num = 1\n",
    "\n",
    "# Draw heatmap\n",
    "draw_heatmap(ax=fig.add_subplot(2, 3, panel_num+1),\n",
    "             df=wt_df,\n",
    "             seq=wt_seq,\n",
    "             **heatmap_kwargs)\n",
    "\n",
    "# Draw logo\n",
    "draw_logo(ax=fig.add_subplot(2, 3, panel_num+4), \n",
    "          df=wt_df,\n",
    "          ylim=[-8,6],\n",
    "          yticks=[-8,-4,0,4],\n",
    "          **logo_kwargs)\n",
    "\n",
    "#\n",
    "# Panel B: Maximum gauge\n",
    "#\n",
    "panel_num = 2\n",
    "\n",
    "# Draw heatmap\n",
    "draw_heatmap(ax=fig.add_subplot(2, 3, panel_num+1),\n",
    "             df=max_df,\n",
    "             **heatmap_kwargs)\n",
    "\n",
    "# Draw logo\n",
    "draw_logo(ax=fig.add_subplot(2, 3, panel_num+4), \n",
    "          df=max_df,\n",
    "          ylim=[-8,6],\n",
    "          yticks=[-8,-4,0,4],\n",
    "          **logo_kwargs)\n",
    "\n",
    "# Tight layout\n",
    "fig.tight_layout(w_pad=2, h_pad=0, pad=2)\n",
    "fig.savefig(f'{out_dir}fig_1.1_tflogos.pdf', facecolor='white')"
   ]
  },
  {
   "cell_type": "code",
   "execution_count": 17,
   "id": "2f55370c",
   "metadata": {
    "ExecuteTime": {
     "end_time": "2023-05-20T20:11:18.461264Z",
     "start_time": "2023-05-20T20:11:18.257861Z"
    }
   },
   "outputs": [
    {
     "name": "stderr",
     "output_type": "stream",
     "text": [
      "/var/folders/20/m6rbxnjn0zq40r2bn1x6f5x80000gn/T/ipykernel_61409/124929927.py:100: MatplotlibDeprecationWarning: The dist attribute was deprecated in Matplotlib 3.6 and will be removed two minor releases later.\n",
      "  ax.dist=dist\n"
     ]
    },
    {
     "data": {
      "image/png": "[encoded data removed]",
      "text/plain": [
       "<Figure size 680x200 with 3 Axes>"
      ]
     },
     "metadata": {},
     "output_type": "display_data"
    }
   ],
   "source": [
    "import logomaker\n",
    "\n",
    "# Create figure\n",
    "fig = plt.figure(figsize=[3.4*2,2])\n",
    "\n",
    "#\n",
    "# Panel A: Zero-sum gauge\n",
    "#\n",
    "panel_num = 1\n",
    "\n",
    "# Draw illustration\n",
    "draw_3d(ax=fig.add_subplot(1, 3, panel_num, projection='3d'), \n",
    "        planes=[hi_plane],\n",
    "        plane_color='C0',\n",
    "        plane_alpha=0.6,\n",
    "        **illustration_kwargs)\n",
    "\n",
    "#\n",
    "# Panel B: Wild-type gauge\n",
    "#\n",
    "panel_num = 2\n",
    "\n",
    "# Draw illustration\n",
    "ax = draw_3d(ax=fig.add_subplot(1, 3, panel_num, projection='3d'), \n",
    "             planes=[wt_plane],\n",
    "             plane_color='C2',\n",
    "             plane_alpha=0.5,\n",
    "             **illustration_kwargs)\n",
    "\n",
    "#\n",
    "# Panel B: Maximum gauge\n",
    "#\n",
    "panel_num = 3\n",
    "\n",
    "# Draw illustration\n",
    "draw_3d(ax=fig.add_subplot(1, 3, panel_num, projection='3d'), \n",
    "        planes=[max1_plane, max2_plane, max3_plane],\n",
    "        plane_color='C3',\n",
    "        plane_alpha=0.6,\n",
    "        **illustration_kwargs)\n",
    "\n",
    "# Tight layout\n",
    "fig.tight_layout(w_pad=2, h_pad=0, pad=2)\n",
    "fig.savefig(f'{out_dir}fig_1.2_tfspaces.pdf', facecolor='white')"
   ]
  },
  {
   "cell_type": "code",
   "execution_count": null,
   "id": "4fed1fc4",
   "metadata": {},
   "outputs": [],
   "source": []
  }
 ],
 "metadata": {
  "kernelspec": {
   "display_name": "Python 3",
   "language": "python",
   "name": "python3"
  },
  "language_info": {
   "codemirror_mode": {
    "name": "ipython",
    "version": 3
   },
   "file_extension": ".py",
   "mimetype": "text/x-python",
   "name": "python",
   "nbconvert_exporter": "python",
   "pygments_lexer": "ipython3",
   "version": "3.9.15"
  },
  "varInspector": {
   "cols": {
    "lenName": 16,
    "lenType": 16,
    "lenVar": 40
   },
   "kernels_config": {
    "python": {
     "delete_cmd_postfix": "",
     "delete_cmd_prefix": "del ",
     "library": "var_list.py",
     "varRefreshCmd": "print(var_dic_list())"
    },
    "r": {
     "delete_cmd_postfix": ") ",
     "delete_cmd_prefix": "rm(",
     "library": "var_list.r",
     "varRefreshCmd": "cat(var_dic_list()) "
    }
   },
   "types_to_exclude": [
    "module",
    "function",
    "builtin_function_or_method",
    "instance",
    "_Feature"
   ],
   "window_display": false
  }
 },
 "nbformat": 4,
 "nbformat_minor": 5
}
